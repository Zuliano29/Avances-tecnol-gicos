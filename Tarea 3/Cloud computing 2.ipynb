{
 "cells": [
  {
   "cell_type": "markdown",
   "id": "fef6938b",
   "metadata": {},
   "source": [
    "Cloud computing\n",
    "\n",
    "Cloud computing es el suministro bajo demanda, vía Internet, de recursos informáticos (computación, almacenamiento, redes, bases de datos, plataformas y software) entregados como servicios escalables y facturados normalmente por uso; permite acceder a potencia y servicios remotos sin gestionar la infraestructura física local y facilita aprovisionamiento automático mediante APIs y portales web.\n",
    "\n",
    "Origen y evolución histórica\n",
    "\n",
    "Las ideas que preceden a la nube datan de los años 60 y 70 con conceptos de tiempo compartido y redes de computadoras; el modelo moderno nació con la aparición de grandes centros de datos virtualizados y la oferta masiva de infraestructura bajo demanda a mediados de los 2000, lo que permitió el despliegue rápido de servicios empresariales y el crecimiento de SaaS, IaaS y PaaS.\n",
    "\n",
    "Modelos de servicio (qué entrega la nube)\n",
    "\n",
    "IaaS (Infraestructura como Servicio): entrega servidores virtuales, almacenamiento y redes para que el cliente construya y gestione su stack; ideal cuando se necesita control sobre OS y middleware.\n",
    "\n",
    "PaaS (Plataforma como Servicio): entornos gestionados para desarrollar, probar y desplegar aplicaciones sin preocuparse por la infraestructura subyacente.\n",
    "\n",
    "SaaS (Software como Servicio): aplicaciones finales ofrecidas por el proveedor accesibles por navegador o app (correo, CRM, ofimática) donde el proveedor mantiene todo el stack.\n",
    "\n",
    "Modelos de despliegue y arquitecturas\n",
    "\n",
    "Nube pública: recursos compartidos y gestionados por proveedores externos (ej.: AWS, Azure, Google Cloud) que ofrecen elasticidad y alcance global.\n",
    "\n",
    "Nube privada: infraestructura dedicada a una sola organización, on‑premises o en hosted private cloud, para mayor control y cumplimiento.\n",
    "\n",
    "Nube híbrida y multi‑nube: combinan nubes públicas y privadas o múltiples proveedores para optimizar coste, latencia y requisitos regulatorios; la arquitectura incorpora virtualización, orquestación y redes distribuidas para mover cargas según necesidad5.\n",
    "\n",
    "Componentes técnicos y patrones arquitectónicos\n",
    "\n",
    "Virtualización y contenedores: abstraen hardware y permiten densificar cargas; contenedores y Kubernetes facilitan despliegue y escalado rápido.\n",
    "\n",
    "Redes y CDN: redes definidas por software, balanceo de carga y CDNs acercan aplicaciones a usuarios globales reduciendo latencia.\n",
    "\n",
    "Almacenamiento y bases de datos gestionadas: opciones desde objetos (S3) hasta bases SQL/NoSQL gestionadas que eliminan operaciones on‑premise.\n",
    "\n",
    "Automatización y IaC (Infrastructure as Code): Terraform, CloudFormation y pipelines CI/CD permiten reproducir infraestructuras y despliegues de forma segura y repetible.\n",
    "\n",
    "Edge computing: procesamiento más cercano al dispositivo para reducir latencia en IoT y aplicaciones en tiempo real, complementando la nube centralizada.\n",
    "\n",
    "Beneficios concretos, riesgos y buenas prácticas\n",
    "\n",
    "Beneficios: escalabilidad elástica, pago por uso y reducción de CAPEX; aceleración en time‑to‑market y acceso a servicios avanzados (IA, analítica, IoT) que impulsan la innovación empresarial.\n",
    "\n",
    "Riesgos y retos: seguridad y privacidad de datos, cumplimiento regulatorio, dependencia del proveedor (vendor lock‑in), gestión de costes y latencia/disponibilidad según región.\n",
    "\n",
    "Buenas prácticas: diseñar con principio de “shared responsibility”, cifrar datos en tránsito y en reposo, implementar IAM y MFA, usar políticas de backup y recuperación, monitorizar costes y aplicar IaC y pipelines automatizados para control de cambios.\n",
    "\n",
    "Casos de uso y cómo empezar una adopción\n",
    "\n",
    "Casos de uso típicos: hosting web y apps, Big Data y analítica, entornos de desarrollo/testing, SaaS empresarial, DR/backup, IA/ML y plataformas para IoT.\n",
    "\n",
    "Pasos para empezar: evaluar cargas y objetivos; elegir modelo de servicio y despliegue; diseñar gobernanza, seguridad y SLA; iniciar con una prueba piloto (lift‑and‑shift o refactor); medir rendimiento y costes; iterar hacia optimización y automatización.\n",
    "\n",
    "<img decoding=\"async\" width=\"800\" height=\"600\" src=\"https://udsenterprise.com/wp-content/uploads/2024/06/cloud-computing-modelo-ti-nube-caracteristicas-beneficios.jpg\" alt=\"Persona interactuando con una interfaz digital que muestra una red de servicios y datos en la nube. Concepto de Cloud Computing y tecnología en la nube.\" srcset=\"https://udsenterprise.com/wp-content/uploads/2024/06/cloud-computing-modelo-ti-nube-caracteristicas-beneficios.jpg 800w, https://udsenterprise.com/wp-content/uploads/2024/06/cloud-computing-modelo-ti-nube-caracteristicas-beneficios-480x360.jpg 480w\" sizes=\"(min-width: 0px) and (max-width: 480px) 480px, (min-width: 481px) 800px, 100vw\">"
   ]
  }
 ],
 "metadata": {
  "language_info": {
   "name": "python"
  }
 },
 "nbformat": 4,
 "nbformat_minor": 5
}
