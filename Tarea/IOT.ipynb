{
 "cells": [
  {
   "cell_type": "markdown",
   "id": "3fbc0cb7",
   "metadata": {},
   "source": [
    "Definición\n",
    "\n",
    "Internet de las cosas IoT es la red de dispositivos físicos, vehículos y objetos cotidianos integrados con sensores, software y conectividad que les permite recopilar, enviar y recibir datos a través de Internet.\n",
    "\n",
    "Cómo funciona\n",
    "\n",
    "Los dispositivos IoT capturan datos mediante sensores, los procesan localmente o los envían a la nube o a servidores edge para su análisis, y pueden activar actuadores o generar alertas según reglas o modelos de IA/ML; la comunicación se realiza por protocolos como Wi‑Fi, Bluetooth, ZigBee, 4G/5G o LPWAN, y el ciclo típico incluye captura, transmisión, procesamiento y retroalimentación.\n",
    "\n",
    "Componentes clave\n",
    "\n",
    "Dispositivos y sensores que miden variables (temperatura, ubicación, vibración).\n",
    "\n",
    "Conectividad que une dispositivos con plataformas y aplicaciones.\n",
    "\n",
    "Plataformas de gestión y análisis que almacenan, procesan y visualizan los datos.\n",
    "\n",
    "Seguridad y gestión de identidades para proteger dispositivos, datos y comunicaciones.\n",
    "\n",
    "Aplicaciones prácticas\n",
    "\n",
    "IoT abarca desde hogares inteligentes (termostatos, cámaras) hasta usos industriales como mantenimiento predictivo en fábricas, gestión de flotas y logística, agricultura de precisión, salud remota y ciudades inteligentes que optimizan tráfico y energía.\n",
    "\n",
    "Ventajas y desafíos\n",
    "\n",
    "Ventajas: mayor eficiencia operativa, automatización, reducción de costes, mejor toma de decisiones por datos y nuevos modelos de negocio.\n",
    "\n",
    "Desafíos: seguridad y privacidad, interoperabilidad entre dispositivos y plataformas, gestión del gran volumen de datos y necesidades de conectividad y gobernanza.\n",
    "\n",
    "Tendencias y futuro\n",
    "\n",
    "La convergencia con edge computing, 5G, inteligencia artificial y estándares mejores y más baratos de sensores impulsa un despliegue masivo del IoT en sectores industriales y de consumo, aumentando su impacto en eficiencia y nuevos servicios.\n",
    "\n",
    "\n",
    "<img src=\"https://tektelic.com/wp-content/uploads/38-IoT.svg\" jsaction=\"\" class=\"sFlh5c FyHeAf iPVvYb\" style=\"max-width: 757px; height: 146px; margin: 0px; width: 264px;\" alt=\"What is IoT | TEKTELIC Glossary\" jsname=\"kn3ccd\">"
   ]
  },
  {
   "cell_type": "markdown",
   "id": "d6c2ce72",
   "metadata": {},
   "source": [
    "<image src = \"https://tektelic.com/wp-content/uploads/38-IoT.svg\">"
   ]
  }
 ],
 "metadata": {
  "language_info": {
   "name": "python"
  }
 },
 "nbformat": 4,
 "nbformat_minor": 5
}
