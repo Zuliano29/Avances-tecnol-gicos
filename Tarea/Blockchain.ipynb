{
 "cells": [
  {
   "cell_type": "markdown",
   "id": "7d846f26",
   "metadata": {},
   "source": [
    "Definición\n",
    "\n",
    "Blockchain es un registro digital distribuido que almacena datos en bloques enlazados criptográficamente formando una cadena inmutable y verificada por una red de nodos; una vez que un bloque queda añadido, sus registros no pueden modificarse sin que la red detecte la alteración.\n",
    "\n",
    "Cómo funciona\n",
    "\n",
    "Los eventos o transacciones se agrupan en bloques, cada bloque contiene un hash que enlaza con el bloque anterior, una marca de tiempo y las transacciones verificadas; los nodos de la red validan y consensúan el nuevo bloque usando un protocolo de consenso (por ejemplo Proof of Work o Proof of Stake) antes de añadirlo a la cadena.\n",
    "\n",
    "Características clave\n",
    "\n",
    "Descentralización: no existe una autoridad central que controle la base de datos; el libro mayor está replicado en múltiples nodos.\n",
    "\n",
    "Inmutabilidad: modificar un bloque requiere rehacer todos los bloques posteriores, lo que hace extremadamente difícil la manipulación de registros.\n",
    "\n",
    "Transparencia y trazabilidad: muchas blockchains públicas permiten que cualquiera inspeccione el historial de transacciones, facilitando auditorías y trazabilidad.\n",
    "\n",
    "Tipos de blockchain y modelos de uso\n",
    "\n",
    "Públicas: abiertas a cualquier participante y transparentes.\n",
    "\n",
    "Privadas: restringidas a organizaciones concretas con control de permisos.\n",
    "\n",
    "Con permisos (permissioned) y sin permisos (permissionless): diferen por quién puede leer o validar transacciones; la elección depende de requisitos de privacidad, escalabilidad y confianza.\n",
    "\n",
    "Aplicaciones prácticas\n",
    "\n",
    "Criptomonedas como Bitcoin usan blockchain para registrar transferencias de valor sin intermediarios; contratos inteligentes (smart contracts) ejecutan lógica automática en la cadena para automatizar acuerdos; la tecnología se aplica además en trazabilidad de la cadena de suministro, identidad digital, votación electrónica, finanzas descentralizadas (DeFi) y registro inmutable de activos digitales y físicos.\n",
    "\n",
    "Ventajas y desafíos\n",
    "\n",
    "Ventajas: reduce la necesidad de intermediarios, mejora la integridad de los datos, facilita transparencia y resiliencia frente a fallos centralizados.\n",
    "\n",
    "Desafíos: escalabilidad y consumo energético en algunos consensos, privacidad en cadenas públicas, complejidad regulatoria y riesgos asociados a errores en contratos inteligentes o a la mala gestión de claves privadas.\n",
    "\n",
    "Conclusión\n",
    "\n",
    "Blockchain es una tecnología de registro distribuido que aporta confianza, trazabilidad y automatización en entornos donde se necesita compartir y verificar información sin depender de una autoridad central; su adopción requiere evaluar trade-offs técnicos, legales y de gobernanza."
   ]
  }
 ],
 "metadata": {
  "language_info": {
   "name": "python"
  }
 },
 "nbformat": 4,
 "nbformat_minor": 5
}
