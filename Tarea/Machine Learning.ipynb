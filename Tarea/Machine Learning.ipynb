{
 "cells": [
  {
   "cell_type": "markdown",
   "id": "4f09e60f",
   "metadata": {},
   "source": [
    "El Machine Learning (aprendizaje automático) es una rama de la Inteligencia Artificial que se enfoca en crear algoritmos y modelos capaces de aprender de los datos y mejorar su rendimiento con la experiencia, sin necesidad de ser programados de forma explícita para cada tarea.\n",
    "\n",
    "\n",
    "Concepto esencial\n",
    "\n",
    "\n",
    "Aprender de ejemplos: el sistema analiza datos (números, texto, imágenes, audio…) y detecta patrones.\n",
    "\n",
    "Mejora continua: con más datos y retroalimentación, el modelo ajusta sus parámetros para ser más preciso.\n",
    "\n",
    "Automatización inteligente: permite que las máquinas tomen decisiones o hagan predicciones de forma autónoma.\n",
    "\n",
    "\n",
    "Cómo funciona\n",
    "\n",
    "\n",
    "Datos de entrenamiento → información inicial para que el modelo aprenda.\n",
    "\n",
    "Algoritmo → conjunto de reglas matemáticas que procesan esos datos.\n",
    "\n",
    "Entrenamiento → el modelo ajusta sus “pesos” internos para minimizar errores.\n",
    "\n",
    "Evaluación → se mide la precisión con datos nuevos.\n",
    "\n",
    "Optimización → se repite el ciclo hasta alcanzar el rendimiento deseado.\n",
    "\n",
    "\n",
    "Tipos principales\n",
    "\n",
    "\n",
    "Aprendizaje supervisado: el modelo aprende con datos etiquetados (ej. fotos de gatos y perros con su nombre).\n",
    "\n",
    "Aprendizaje no supervisado: el modelo busca patrones sin etiquetas (ej. segmentar clientes por comportamiento).\n",
    "\n",
    "Aprendizaje por refuerzo: el modelo aprende por prueba y error, recibiendo recompensas o penalizaciones (ej. entrenar un robot para caminar).\n",
    "\n",
    "\n",
    "Ejemplos de uso\n",
    "\n",
    "\n",
    "Recomendaciones en Netflix o Spotify.\n",
    "\n",
    "Detección de fraudes bancarios.\n",
    "\n",
    "Reconocimiento de voz y asistentes virtuales.\n",
    "\n",
    "Diagnóstico médico asistido por IA.\n",
    "\n",
    "<img src=\"https://www.equiposytalento.com/upload/talent_noticias/004/4413/machinelearningts.jpg\" jsaction=\"\" class=\"sFlh5c FyHeAf iPVvYb\" style=\"max-width: 733px; height: 247px; margin: 0px; width: 305px;\" alt=\"talentstreet | equipos&amp;talento\" jsname=\"kn3ccd\">"
   ]
  },
  {
   "cell_type": "code",
   "execution_count": 2,
   "id": "cce50f2d",
   "metadata": {},
   "outputs": [
    {
     "name": "stdout",
     "output_type": "stream",
     "text": [
      "Precisión del modelo: 1.00\n"
     ]
    }
   ],
   "source": [
    "from sklearn.datasets import load_iris\n",
    "from sklearn.model_selection import train_test_split\n",
    "from sklearn.tree import DecisionTreeClassifier\n",
    "from sklearn.metrics import accuracy_score\n",
    "\n",
    "# 1. Cargar el dataset Iris\n",
    "iris = load_iris()\n",
    "X = iris.data          # Características (longitud de pétalos, sépalos, etc.)\n",
    "y = iris.target        # Etiquetas (tipos de flor)\n",
    "\n",
    "# 2. Dividir en entrenamiento y prueba\n",
    "X_train, X_test, y_train, y_test = train_test_split(X, y, test_size=0.2, random_state=42)\n",
    "\n",
    "# 3. Crear y entrenar el modelo\n",
    "modelo = DecisionTreeClassifier()\n",
    "modelo.fit(X_train, y_train)\n",
    "\n",
    "# 4. Hacer predicciones\n",
    "y_pred = modelo.predict(X_test)\n",
    "\n",
    "# 5. Evaluar precisión\n",
    "precision = accuracy_score(y_test, y_pred)\n",
    "print(f\"Precisión del modelo: {precision:.2f}\")\n"
   ]
  }
 ],
 "metadata": {
  "kernelspec": {
   "display_name": "Python 3",
   "language": "python",
   "name": "python3"
  },
  "language_info": {
   "codemirror_mode": {
    "name": "ipython",
    "version": 3
   },
   "file_extension": ".py",
   "mimetype": "text/x-python",
   "name": "python",
   "nbconvert_exporter": "python",
   "pygments_lexer": "ipython3",
   "version": "3.12.1"
  }
 },
 "nbformat": 4,
 "nbformat_minor": 5
}
