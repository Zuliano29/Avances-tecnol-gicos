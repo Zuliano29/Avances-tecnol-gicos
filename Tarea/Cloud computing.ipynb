{
 "cells": [
  {
   "cell_type": "markdown",
   "id": "8d4cb87c",
   "metadata": {},
   "source": [
    "Definición\n",
    "\n",
    "Cloud computing, o computación en la nube, es la disponibilidad bajo demanda de recursos informáticos —como servidores, almacenamiento, redes, plataformas y software— ofrecidos como servicios a través de Internet para que los usuarios paguen según uso y sin gestionar la infraestructura física directamente.\n",
    "\n",
    "Cómo funciona\n",
    "\n",
    "La nube agrupa recursos en centros de datos remotos que los proveedores gestionan; los usuarios se conectan por Internet a esos recursos mediante interfaces web o APIs, solicitando capacidad de cómputo, almacenamiento o servicios aplicacionales cuando los necesitan.\n",
    "\n",
    "Modelos de servicio principales\n",
    "\n",
    "IaaS (Infraestructura como Servicio): máquinas virtuales, almacenamiento y redes virtuales para que el cliente configure su entorno.\n",
    "\n",
    "PaaS (Plataforma como Servicio): entornos gestionados para desarrollar y desplegar aplicaciones sin ocuparse de la infraestructura subyacente.\n",
    "\n",
    "SaaS (Software como Servicio): aplicaciones listas para usar accesibles por navegador o app, donde el proveedor gestiona todo el stack.\n",
    "\n",
    "Modelos de despliegue\n",
    "\n",
    "Nube pública: recursos compartidos y administrados por un proveedor externo.\n",
    "\n",
    "Nube privada: infraestructura dedicada y gestionada para una sola organización.\n",
    "\n",
    "Nube híbrida: combinación de pública y privada para equilibrar flexibilidad, rendimiento y cumplimiento.\n",
    "\n",
    "Ventajas y retos\n",
    "\n",
    "Las ventajas incluyen escalabilidad elástica, pago por uso, mayor rapidez para desplegar servicios y acceso global a recursos; estas características fomentan la innovación y reducen costos operativos. Los retos principales son la seguridad y privacidad de los datos, la dependencia del proveedor, latencia según ubicación y la necesidad de buenas prácticas (contraseñas fuertes, autenticación multifactor y control de accesos) para mitigar riesgos.\n",
    "\n",
    "Ejemplos y aplicaciones prácticas\n",
    "\n",
    "Servicios y aplicaciones cotidianas que usan la nube incluyen correo en línea y almacenamiento (Gmail, Google Drive), plataformas de streaming (Netflix), herramientas de colaboración y entornos de desarrollo y alojamiento para sitios y aplicaciones empresariales."
   ]
  }
 ],
 "metadata": {
  "language_info": {
   "name": "python"
  }
 },
 "nbformat": 4,
 "nbformat_minor": 5
}
