{
 "cells": [
  {
   "cell_type": "markdown",
   "id": "33c9f148",
   "metadata": {},
   "source": [
    "El Deep Learning (aprendizaje profundo) es una rama avanzada del Machine Learning que utiliza redes neuronales artificiales con muchas capas —de ahí lo de “profundo”— para procesar y aprender de grandes volúmenes de datos de forma jerárquica.\n",
    "\n",
    "\n",
    "Concepto clave\n",
    "\n",
    "\n",
    "Inspiración biológica: imita, de forma simplificada, cómo las neuronas del cerebro procesan información.\n",
    "\n",
    "Capas jerárquicas: cada capa de la red aprende características cada vez más complejas a partir de la salida de la capa anterior.\n",
    "\n",
    "Autonomía en el aprendizaje: puede trabajar con datos no estructurados (imágenes, audio, texto) y extraer por sí mismo las características relevantes sin que un humano las defina explícitamente.\n",
    "\n",
    "\n",
    "Cómo funciona\n",
    "\n",
    "\n",
    "Entrada de datos → por ejemplo, una imagen.\n",
    "\n",
    "Capas iniciales → detectan patrones simples (bordes, colores).\n",
    "\n",
    "Capas intermedias → combinan esos patrones para reconocer formas o texturas.\n",
    "\n",
    "Capas profundas → identifican conceptos complejos (un rostro, un objeto, una palabra).\n",
    "\n",
    "Salida → clasificación, predicción o generación de contenido.\n",
    "\n",
    "\n",
    "Ejemplos de uso\n",
    "\n",
    "\n",
    "Reconocimiento facial y de voz.\n",
    "\n",
    "Traducción automática.\n",
    "\n",
    "Vehículos autónomos.\n",
    "\n",
    "Detección de fraudes.\n",
    "\n",
    "IA generativa (como la que crea imágenes o textos).\n",
    "\n",
    "Diferencia con el Machine Learning “tradicional”: En Machine Learning clásico, un humano suele definir qué características del dato son importantes. En Deep Learning, la red neuronal aprende esas características por sí misma a través de múltiples capas de procesamiento."
   ]
  },
  {
   "cell_type": "code",
   "execution_count": 3,
   "id": "d7dc6590",
   "metadata": {},
   "outputs": [
    {
     "ename": "ModuleNotFoundError",
     "evalue": "No module named 'tensorflow'",
     "output_type": "error",
     "traceback": [
      "\u001b[31m---------------------------------------------------------------------------\u001b[39m",
      "\u001b[31mModuleNotFoundError\u001b[39m                       Traceback (most recent call last)",
      "\u001b[36mCell\u001b[39m\u001b[36m \u001b[39m\u001b[32mIn[3]\u001b[39m\u001b[32m, line 1\u001b[39m\n\u001b[32m----> \u001b[39m\u001b[32m1\u001b[39m \u001b[38;5;28;01mimport\u001b[39;00m\u001b[38;5;250m \u001b[39m\u001b[34;01mtensorflow\u001b[39;00m\u001b[38;5;250m \u001b[39m\u001b[38;5;28;01mas\u001b[39;00m\u001b[38;5;250m \u001b[39m\u001b[34;01mtf\u001b[39;00m\n\u001b[32m      2\u001b[39m \u001b[38;5;28;01mfrom\u001b[39;00m\u001b[38;5;250m \u001b[39m\u001b[34;01mtensorflow\u001b[39;00m\u001b[34;01m.\u001b[39;00m\u001b[34;01mkeras\u001b[39;00m\u001b[38;5;250m \u001b[39m\u001b[38;5;28;01mimport\u001b[39;00m layers, models\n\u001b[32m      3\u001b[39m \u001b[38;5;28;01mfrom\u001b[39;00m\u001b[38;5;250m \u001b[39m\u001b[34;01mtensorflow\u001b[39;00m\u001b[34;01m.\u001b[39;00m\u001b[34;01mkeras\u001b[39;00m\u001b[34;01m.\u001b[39;00m\u001b[34;01mdatasets\u001b[39;00m\u001b[38;5;250m \u001b[39m\u001b[38;5;28;01mimport\u001b[39;00m mnist\n",
      "\u001b[31mModuleNotFoundError\u001b[39m: No module named 'tensorflow'"
     ]
    }
   ],
   "source": [
    "import tensorflow as tf\n",
    "from tensorflow.keras import layers, models\n",
    "from tensorflow.keras.datasets import mnist\n",
    "from tensorflow.keras.utils import to_categorical\n",
    "\n",
    "# 1. Cargar datos\n",
    "(x_train, y_train), (x_test, y_test) = mnist.load_data()\n",
    "\n",
    "# 2. Preprocesar datos\n",
    "x_train = x_train.reshape((60000, 28, 28, 1)).astype(\"float32\") / 255\n",
    "x_test = x_test.reshape((10000, 28, 28, 1)).astype(\"float32\") / 255\n",
    "y_train = to_categorical(y_train)\n",
    "y_test = to_categorical(y_test)\n",
    "\n",
    "# 3. Definir el modelo\n",
    "model = models.Sequential([\n",
    "    layers.Conv2D(32, (3, 3), activation=\"relu\", input_shape=(28, 28, 1)),\n",
    "    layers.MaxPooling2D((2, 2)),\n",
    "    layers.Conv2D(64, (3, 3), activation=\"relu\"),\n",
    "    layers.MaxPooling2D((2, 2)),\n",
    "    layers.Flatten(),\n",
    "    layers.Dense(64, activation=\"relu\"),\n",
    "    layers.Dense(10, activation=\"softmax\")\n",
    "])\n",
    "\n",
    "# 4. Compilar el modelo\n",
    "model.compile(optimizer=\"adam\",\n",
    "              loss=\"categorical_crossentropy\",\n",
    "              metrics=[\"accuracy\"])\n",
    "\n",
    "# 5. Entrenar el modelo\n",
    "model.fit(x_train, y_train, epochs=5, batch_size=64, validation_split=0.1)\n",
    "\n",
    "# 6. Evaluar el modelo\n",
    "test_loss, test_acc = model.evaluate(x_test, y_test)\n",
    "print(f\"Precisión en el conjunto de prueba: {test_acc:.2f}\")\n"
   ]
  }
 ],
 "metadata": {
  "kernelspec": {
   "display_name": "Python 3",
   "language": "python",
   "name": "python3"
  },
  "language_info": {
   "codemirror_mode": {
    "name": "ipython",
    "version": 3
   },
   "file_extension": ".py",
   "mimetype": "text/x-python",
   "name": "python",
   "nbconvert_exporter": "python",
   "pygments_lexer": "ipython3",
   "version": "3.12.1"
  }
 },
 "nbformat": 4,
 "nbformat_minor": 5
}
