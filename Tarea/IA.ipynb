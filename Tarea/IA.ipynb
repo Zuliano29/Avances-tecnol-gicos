{
 "cells": [
  {
   "cell_type": "markdown",
   "id": "019257a5",
   "metadata": {},
   "source": [
    "Que es la IA?\n",
    "\n",
    "\n",
    "La Inteligencia Artificial (IA) es un campo de la informática que combina algoritmos, modelos matemáticos y grandes volúmenes de datos para que las máquinas puedan percibir, razonar, aprender y tomar decisiones de forma similar a como lo haría un ser humano.\n",
    "\n",
    "\n",
    "\n",
    "Fundamentos técnicos.\n",
    "\n",
    "\n",
    "Algoritmos: Conjuntos de instrucciones lógicas que guían el procesamiento de datos y la toma de decisiones.\n",
    "\n",
    "Datos: La materia prima. La IA aprende a partir de datos estructurados (tablas, bases de datos) y no estructurados (imágenes, texto, audio).\n",
    "\n",
    "Modelos matemáticos: Representaciones formales que permiten predecir, clasificar o generar información.\n",
    "\n",
    "\n",
    "Principales ramas.\n",
    "\n",
    "\n",
    "Aprendizaje automático (Machine Learning): Los sistemas se entrenan con datos para reconocer patrones y hacer predicciones sin ser programados explícitamente para cada tarea.\n",
    "\n",
    "Aprendizaje profundo (Deep Learning): Subcampo del anterior que usa redes neuronales artificiales con múltiples capas, inspiradas en la estructura del cerebro, para procesar información compleja como imágenes o lenguaje natural.\n",
    "\n",
    "Procesamiento de Lenguaje Natural (PLN): Permite que las máquinas comprendan, interpreten y generen lenguaje humano.\n",
    "\n",
    "Visión por computadora: Analiza y entiende imágenes y videos.\n",
    "\n",
    "\n",
    "Cómo funciona en la práctica.\n",
    "\n",
    "\n",
    "Entrada de datos → Sensores, cámaras, micrófonos o bases de datos.\n",
    "\n",
    "Preprocesamiento → Limpieza y normalización de datos.\n",
    "\n",
    "Entrenamiento → El modelo ajusta sus parámetros internos para minimizar errores.\n",
    "\n",
    "Inferencia → El sistema aplica lo aprendido para resolver nuevos casos.\n",
    "\n",
    "Retroalimentación → Ajusta y mejora su rendimiento con datos nuevos."
   ]
  },
  {
   "cell_type": "code",
   "execution_count": null,
   "id": "be669ec8",
   "metadata": {},
   "outputs": [
    {
     "name": "stdout",
     "output_type": "stream",
     "text": [
      "Bot: No estoy seguro de cómo responder a eso, pero me encantaría aprender.\n",
      "Bot: No estoy seguro de cómo responder a eso, pero me encantaría aprender.\n",
      "Bot: No estoy seguro de cómo responder a eso, pero me encantaría aprender.\n",
      "Bot: No estoy seguro de cómo responder a eso, pero me encantaría aprender.\n",
      "Bot: No estoy seguro de cómo responder a eso, pero me encantaría aprender.\n",
      "Bot: No estoy seguro de cómo responder a eso, pero me encantaría aprender.\n",
      "Bot: No estoy seguro de cómo responder a eso, pero me encantaría aprender.\n",
      "Bot: No estoy seguro de cómo responder a eso, pero me encantaría aprender.\n",
      "Bot: No estoy seguro de cómo responder a eso, pero me encantaría aprender.\n",
      "Bot: No estoy seguro de cómo responder a eso, pero me encantaría aprender.\n",
      "Bot: No estoy seguro de cómo responder a eso, pero me encantaría aprender.\n",
      "Bot: No estoy seguro de cómo responder a eso, pero me encantaría aprender.\n",
      "Bot: No estoy seguro de cómo responder a eso, pero me encantaría aprender.\n",
      "Bot: No estoy seguro de cómo responder a eso, pero me encantaría aprender.\n",
      "Bot: No estoy seguro de cómo responder a eso, pero me encantaría aprender.\n"
     ]
    }
   ],
   "source": [
    "def responder(mensaje):\n",
    "    mensaje = mensaje.lower()\n",
    "    if \"hola\" in mensaje:\n",
    "        return \"¡Hola! ¿Cómo estás?\"\n",
    "    elif \"galleta\" in mensaje:\n",
    "        return \"Las galletas caseras son mi especialidad\"\n",
    "    elif \"adiós\" in mensaje:\n",
    "        return \"¡Hasta luego! Que tengas un dulce día.\"\n",
    "    else:\n",
    "        return \"No estoy seguro de cómo responder a eso, pero me encantaría aprender.\"\n",
    "\n",
    "# Simulación de conversación\n",
    "while True:\n",
    "    entrada = input(\"Tú: \")\n",
    "    if entrada.lower() in [\"salir\", \"exit\"]:\n",
    "        print(\"Bot: ¡Hasta pronto!\")\n",
    "        break\n",
    "    respuesta = responder(entrada)\n",
    "    print(\"Bot:\", respuesta)\n"
   ]
  }
 ],
 "metadata": {
  "kernelspec": {
   "display_name": "Python 3",
   "language": "python",
   "name": "python3"
  },
  "language_info": {
   "codemirror_mode": {
    "name": "ipython",
    "version": 3
   },
   "file_extension": ".py",
   "mimetype": "text/x-python",
   "name": "python",
   "nbconvert_exporter": "python",
   "pygments_lexer": "ipython3",
   "version": "3.12.1"
  }
 },
 "nbformat": 4,
 "nbformat_minor": 5
}
